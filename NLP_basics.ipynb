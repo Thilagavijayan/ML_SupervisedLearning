{
  "nbformat": 4,
  "nbformat_minor": 0,
  "metadata": {
    "colab": {
      "provenance": [],
      "authorship_tag": "ABX9TyO1H9SH5TEdFwb8zZondXf6",
      "include_colab_link": true
    },
    "kernelspec": {
      "name": "python3",
      "display_name": "Python 3"
    },
    "language_info": {
      "name": "python"
    }
  },
  "cells": [
    {
      "cell_type": "markdown",
      "metadata": {
        "id": "view-in-github",
        "colab_type": "text"
      },
      "source": [
        "<a href=\"https://colab.research.google.com/github/Thilagavijayan/ML_SupervisedLearning/blob/main/NLP_basics.ipynb\" target=\"_parent\"><img src=\"https://colab.research.google.com/assets/colab-badge.svg\" alt=\"Open In Colab\"/></a>"
      ]
    },
    {
      "cell_type": "markdown",
      "source": [
        "#Natural language Processing(NLP)"
      ],
      "metadata": {
        "id": "2c2ScX2OCRIa"
      }
    },
    {
      "cell_type": "markdown",
      "source": [
        "##Tokenization of words \n",
        "word_tokenize() to split a sentence into words\n",
        "Word Tokenization becomes a crucial part of the text(string)to numeric data conversion\n"
      ],
      "metadata": {
        "id": "V71WxtwiCt-g"
      }
    },
    {
      "cell_type": "code",
      "execution_count": null,
      "metadata": {
        "colab": {
          "base_uri": "https://localhost:8080/"
        },
        "id": "KxNm0z_mCLmc",
        "outputId": "dfe92980-a410-4acc-825f-062dc7b5a0cc"
      },
      "outputs": [
        {
          "output_type": "stream",
          "name": "stderr",
          "text": [
            "[nltk_data] Downloading package punkt to /root/nltk_data...\n",
            "[nltk_data]   Unzipping tokenizers/punkt.zip.\n"
          ]
        },
        {
          "output_type": "execute_result",
          "data": {
            "text/plain": [
              "True"
            ]
          },
          "metadata": {},
          "execution_count": 7
        }
      ],
      "source": [
        "import nltk\n",
        "#import nltk\n",
        "nltk.download('punkt')"
      ]
    },
    {
      "cell_type": "markdown",
      "source": [
        "###Word Tokenizer"
      ],
      "metadata": {
        "id": "oWKR8va5DVYk"
      }
    },
    {
      "cell_type": "code",
      "source": [
        "from nltk.tokenize import word_tokenize\n",
        "text = \"This is Thilagavathi currently a student\"\n",
        "print(word_tokenize(text))"
      ],
      "metadata": {
        "colab": {
          "base_uri": "https://localhost:8080/"
        },
        "id": "7idsFzpFCrx6",
        "outputId": "75d34c84-b3e7-4855-949a-77fe55f937c2"
      },
      "execution_count": null,
      "outputs": [
        {
          "output_type": "stream",
          "name": "stdout",
          "text": [
            "['This', 'is', 'Thilagavathi', 'currently', 'a', 'student']\n"
          ]
        }
      ]
    },
    {
      "cell_type": "markdown",
      "source": [
        "###Sentence Tokenizer"
      ],
      "metadata": {
        "id": "d53mdJrjG2zq"
      }
    },
    {
      "cell_type": "code",
      "source": [
        "from nltk.tokenize import sent_tokenize\n",
        "text = \"This is Thilagavathi. Currently a student\"\n",
        "print(sent_tokenize(text))"
      ],
      "metadata": {
        "colab": {
          "base_uri": "https://localhost:8080/"
        },
        "id": "qnm3-OMsG08o",
        "outputId": "2f03c6ee-6664-4f64-8e4d-55d092d76bed"
      },
      "execution_count": null,
      "outputs": [
        {
          "output_type": "stream",
          "name": "stdout",
          "text": [
            "['This is Thilagavathi.', 'Currently a student']\n"
          ]
        }
      ]
    },
    {
      "cell_type": "markdown",
      "source": [
        "##Stemming\n",
        "When we have many variations of the same word"
      ],
      "metadata": {
        "id": "YxWqvREMHIkc"
      }
    },
    {
      "cell_type": "code",
      "source": [],
      "metadata": {
        "id": "BCcs5_paILbV"
      },
      "execution_count": null,
      "outputs": []
    }
  ]
}