{
  "nbformat": 4,
  "nbformat_minor": 0,
  "metadata": {
    "colab": {
      "provenance": [],
      "authorship_tag": "ABX9TyMPw40fBU7bIRfVuJHPxUUd",
      "include_colab_link": true
    },
    "kernelspec": {
      "name": "python3",
      "display_name": "Python 3"
    },
    "language_info": {
      "name": "python"
    }
  },
  "cells": [
    {
      "cell_type": "markdown",
      "metadata": {
        "id": "view-in-github",
        "colab_type": "text"
      },
      "source": [
        "<a href=\"https://colab.research.google.com/github/Thilagavijayan/ML_SupervisedLearning/blob/main/Digit_Recognition_Randomforest.ipynb\" target=\"_parent\"><img src=\"https://colab.research.google.com/assets/colab-badge.svg\" alt=\"Open In Colab\"/></a>"
      ]
    },
    {
      "cell_type": "markdown",
      "source": [
        "Importing Libraries"
      ],
      "metadata": {
        "id": "7ztWKQGH_qlF"
      }
    },
    {
      "cell_type": "code",
      "execution_count": 1,
      "metadata": {
        "id": "H8DtVhpezqns"
      },
      "outputs": [],
      "source": [
        "import pandas as pd\n",
        "import numpy as np"
      ]
    },
    {
      "cell_type": "markdown",
      "source": [
        "Load dataset"
      ],
      "metadata": {
        "id": "2qhqSvPzAFr1"
      }
    },
    {
      "cell_type": "code",
      "source": [
        "dataset = pd.read_csv(\"/content/train.csv\")"
      ],
      "metadata": {
        "id": "AMMCkzfFAE34"
      },
      "execution_count": 6,
      "outputs": []
    },
    {
      "cell_type": "markdown",
      "source": [
        "Summarize Dataset"
      ],
      "metadata": {
        "id": "NU1iOwzaA4z0"
      }
    },
    {
      "cell_type": "code",
      "source": [
        "print(dataset.shape)\n",
        "print(dataset.head(5))"
      ],
      "metadata": {
        "colab": {
          "base_uri": "https://localhost:8080/"
        },
        "id": "3NLbzOp8A96X",
        "outputId": "99ada605-7f30-4611-bfc0-e1ade6001301"
      },
      "execution_count": 7,
      "outputs": [
        {
          "output_type": "stream",
          "name": "stdout",
          "text": [
            "(5157, 785)\n",
            "   label  pixel0  pixel1  pixel2  pixel3  pixel4  pixel5  pixel6  pixel7  \\\n",
            "0      1       0       0       0       0       0       0       0       0   \n",
            "1      0       0       0       0       0       0       0       0       0   \n",
            "2      1       0       0       0       0       0       0       0       0   \n",
            "3      4       0       0       0       0       0       0       0       0   \n",
            "4      0       0       0       0       0       0       0       0       0   \n",
            "\n",
            "   pixel8  ...  pixel774  pixel775  pixel776  pixel777  pixel778  pixel779  \\\n",
            "0       0  ...       0.0       0.0       0.0       0.0       0.0       0.0   \n",
            "1       0  ...       0.0       0.0       0.0       0.0       0.0       0.0   \n",
            "2       0  ...       0.0       0.0       0.0       0.0       0.0       0.0   \n",
            "3       0  ...       0.0       0.0       0.0       0.0       0.0       0.0   \n",
            "4       0  ...       0.0       0.0       0.0       0.0       0.0       0.0   \n",
            "\n",
            "   pixel780  pixel781  pixel782  pixel783  \n",
            "0       0.0       0.0       0.0       0.0  \n",
            "1       0.0       0.0       0.0       0.0  \n",
            "2       0.0       0.0       0.0       0.0  \n",
            "3       0.0       0.0       0.0       0.0  \n",
            "4       0.0       0.0       0.0       0.0  \n",
            "\n",
            "[5 rows x 785 columns]\n"
          ]
        }
      ]
    },
    {
      "cell_type": "markdown",
      "source": [
        "Segregate dataset into X(Input/Independent variable) & Y(output/Dependent variable)"
      ],
      "metadata": {
        "id": "r7BIhZRvDJJ8"
      }
    },
    {
      "cell_type": "code",
      "source": [
        "X = dataset.iloc[:,1:]\n",
        "print(X)\n",
        "print(X.shape)"
      ],
      "metadata": {
        "colab": {
          "base_uri": "https://localhost:8080/"
        },
        "id": "bZfMzuzbDciA",
        "outputId": "fa7308bd-6f34-4067-d205-08b7a6e87575"
      },
      "execution_count": 9,
      "outputs": [
        {
          "output_type": "stream",
          "name": "stdout",
          "text": [
            "      pixel0  pixel1  pixel2  pixel3  pixel4  pixel5  pixel6  pixel7  pixel8  \\\n",
            "0          0       0       0       0       0       0       0       0       0   \n",
            "1          0       0       0       0       0       0       0       0       0   \n",
            "2          0       0       0       0       0       0       0       0       0   \n",
            "3          0       0       0       0       0       0       0       0       0   \n",
            "4          0       0       0       0       0       0       0       0       0   \n",
            "...      ...     ...     ...     ...     ...     ...     ...     ...     ...   \n",
            "5152       0       0       0       0       0       0       0       0       0   \n",
            "5153       0       0       0       0       0       0       0       0       0   \n",
            "5154       0       0       0       0       0       0       0       0       0   \n",
            "5155       0       0       0       0       0       0       0       0       0   \n",
            "5156       0       0       0       0       0       0       0       0       0   \n",
            "\n",
            "      pixel9  ...  pixel774  pixel775  pixel776  pixel777  pixel778  pixel779  \\\n",
            "0          0  ...       0.0       0.0       0.0       0.0       0.0       0.0   \n",
            "1          0  ...       0.0       0.0       0.0       0.0       0.0       0.0   \n",
            "2          0  ...       0.0       0.0       0.0       0.0       0.0       0.0   \n",
            "3          0  ...       0.0       0.0       0.0       0.0       0.0       0.0   \n",
            "4          0  ...       0.0       0.0       0.0       0.0       0.0       0.0   \n",
            "...      ...  ...       ...       ...       ...       ...       ...       ...   \n",
            "5152       0  ...       0.0       0.0       0.0       0.0       0.0       0.0   \n",
            "5153       0  ...       0.0       0.0       0.0       0.0       0.0       0.0   \n",
            "5154       0  ...       0.0       0.0       0.0       0.0       0.0       0.0   \n",
            "5155       0  ...       0.0       0.0       0.0       0.0       0.0       0.0   \n",
            "5156       0  ...       NaN       NaN       NaN       NaN       NaN       NaN   \n",
            "\n",
            "      pixel780  pixel781  pixel782  pixel783  \n",
            "0          0.0       0.0       0.0       0.0  \n",
            "1          0.0       0.0       0.0       0.0  \n",
            "2          0.0       0.0       0.0       0.0  \n",
            "3          0.0       0.0       0.0       0.0  \n",
            "4          0.0       0.0       0.0       0.0  \n",
            "...        ...       ...       ...       ...  \n",
            "5152       0.0       0.0       0.0       0.0  \n",
            "5153       0.0       0.0       0.0       0.0  \n",
            "5154       0.0       0.0       0.0       0.0  \n",
            "5155       0.0       0.0       0.0       0.0  \n",
            "5156       NaN       NaN       NaN       NaN  \n",
            "\n",
            "[5157 rows x 784 columns]\n",
            "(5157, 784)\n"
          ]
        }
      ]
    },
    {
      "cell_type": "code",
      "source": [
        "Y = dataset.iloc[:,0]\n",
        "print(Y)\n",
        "print(Y.shape)"
      ],
      "metadata": {
        "colab": {
          "base_uri": "https://localhost:8080/"
        },
        "id": "LwpE-4XdEgkp",
        "outputId": "215384d6-c935-45bb-b1cd-4ba1019e0f47"
      },
      "execution_count": 10,
      "outputs": [
        {
          "output_type": "stream",
          "name": "stdout",
          "text": [
            "0       1\n",
            "1       0\n",
            "2       1\n",
            "3       4\n",
            "4       0\n",
            "       ..\n",
            "5152    3\n",
            "5153    0\n",
            "5154    0\n",
            "5155    9\n",
            "5156    2\n",
            "Name: label, Length: 5157, dtype: int64\n",
            "(5157,)\n"
          ]
        }
      ]
    }
  ]
}